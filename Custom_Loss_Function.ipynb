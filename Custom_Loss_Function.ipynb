{
  "cells": [
    {
      "cell_type": "markdown",
      "metadata": {
        "id": "view-in-github",
        "colab_type": "text"
      },
      "source": [
        "<a href=\"https://colab.research.google.com/github/monsieurshiva/MachineLearning/blob/main/Custom_Loss_Function.ipynb\" target=\"_parent\"><img src=\"https://colab.research.google.com/assets/colab-badge.svg\" alt=\"Open In Colab\"/></a>"
      ]
    },
    {
      "cell_type": "markdown",
      "metadata": {
        "id": "vorN741-QSpc"
      },
      "source": [
        "# Custom Loss Function: Huber Loss\n",
        "\n",
        "We will create a custom loss functions, in particular, we'll code the [Huber Loss](https://en.wikipedia.org/wiki/Huber_loss) and use that in training the model."
      ]
    },
    {
      "cell_type": "markdown",
      "metadata": {
        "id": "UDxXL2QfQSpl"
      },
      "source": [
        "## Imports"
      ]
    },
    {
      "cell_type": "code",
      "execution_count": 1,
      "metadata": {
        "id": "0p84I7yFHRT2"
      },
      "outputs": [],
      "source": [
        "import tensorflow as tf\n",
        "import numpy as np\n",
        "from tensorflow import keras\n",
        "from tensorflow.keras.losses import Loss"
      ]
    },
    {
      "cell_type": "markdown",
      "metadata": {
        "id": "HSgoamuCQSpp"
      },
      "source": [
        "## Prepare the Data\n",
        "\n",
        "Our dummy dataset is just a pair of arrays `xs` and `ys` defined by the relationship $y = 2x - 1$. `xs` are the inputs while `ys` are the labels."
      ]
    },
    {
      "cell_type": "code",
      "execution_count": 2,
      "metadata": {
        "id": "SAOuAfTzQSpq"
      },
      "outputs": [],
      "source": [
        "# inputs\n",
        "xs = np.array([-1.0,  0.0, 1.0, 2.0, 3.0, 4.0], dtype=float)\n",
        "\n",
        "# labels\n",
        "ys = np.array([-3.0, -1.0, 1.0, 3.0, 5.0, 7.0], dtype=float)"
      ]
    },
    {
      "cell_type": "markdown",
      "metadata": {
        "id": "r0iunWnGQSpr"
      },
      "source": [
        "## Training the model\n",
        "\n",
        "Let's build a simple model and train using a built-in loss function like the `mean_squared_error`."
      ]
    },
    {
      "cell_type": "code",
      "execution_count": 3,
      "metadata": {
        "colab": {
          "base_uri": "https://localhost:8080/"
        },
        "id": "2eY7fw0EHwda",
        "outputId": "8554c220-6360-48f6-d19b-f3bd375549dc"
      },
      "outputs": [
        {
          "output_type": "stream",
          "name": "stdout",
          "text": [
            "1/1 [==============================] - 0s 206ms/step\n",
            "[[18.985247]]\n"
          ]
        }
      ],
      "source": [
        "model = tf.keras.Sequential([keras.layers.Dense(units=1, input_shape=[1])])\n",
        "model.compile(optimizer='sgd', loss='mean_squared_error')\n",
        "model.fit(xs, ys, epochs=500,verbose=0)\n",
        "\n",
        "print(model.predict([10.0]))"
      ]
    },
    {
      "cell_type": "markdown",
      "metadata": {
        "id": "QE8GEtpXQSpv"
      },
      "source": [
        "### Custom Loss\n",
        "\n",
        "Now let's see how we can use a custom loss. We first define a function that accepts the ground truth labels (`y_true`) and model predictions (`y_pred`) as parameters. We then compute and return the loss value in the function definition."
      ]
    },
    {
      "cell_type": "code",
      "execution_count": 4,
      "metadata": {
        "id": "fHtDxE0lI_Hg"
      },
      "outputs": [],
      "source": [
        "def my_huber_loss(y_true, y_pred):\n",
        "    threshold = 1\n",
        "    error = y_true - y_pred\n",
        "    is_small_error = tf.abs(error) <= threshold\n",
        "    small_error_loss = tf.square(error) / 2\n",
        "    big_error_loss = threshold * (tf.abs(error) - (0.5 * threshold))\n",
        "    return tf.where(is_small_error, small_error_loss, big_error_loss)"
      ]
    },
    {
      "cell_type": "markdown",
      "metadata": {
        "id": "8vLdtkawQSpy"
      },
      "source": [
        "Using the loss function is as simple as specifying the loss function in the `loss` argument of `model.compile()`."
      ]
    },
    {
      "cell_type": "code",
      "execution_count": 5,
      "metadata": {
        "colab": {
          "base_uri": "https://localhost:8080/"
        },
        "id": "K7rgmb5qH5QX",
        "outputId": "af36f421-e2e1-4ad5-fc87-a20db0f39b1e"
      },
      "outputs": [
        {
          "output_type": "stream",
          "name": "stdout",
          "text": [
            "1/1 [==============================] - 0s 119ms/step\n",
            "[[18.789484]]\n"
          ]
        }
      ],
      "source": [
        "model = tf.keras.Sequential([keras.layers.Dense(units=1, input_shape=[1])])\n",
        "model.compile(optimizer='sgd', loss=my_huber_loss)\n",
        "model.fit(xs, ys, epochs=500,verbose=0)\n",
        "print(model.predict([10.0]))"
      ]
    },
    {
      "cell_type": "markdown",
      "source": [
        "### Custom loss with hyperparameter\n",
        "\n",
        "The `loss` argument in `model.compile()` only accepts functions that accepts two parameters: the ground truth (`y_true`) and the model predictions (`y_pred`). If we want to include a hyperparameter that we can tune, then we can define a wrapper function that accepts this hyperparameter."
      ],
      "metadata": {
        "id": "2CDe04OQsT-4"
      }
    },
    {
      "cell_type": "code",
      "source": [
        "# wrapper function that accepts the hyperparameter\n",
        "def my_huber_loss_with_threshold(threshold):\n",
        "  \n",
        "    # function that accepts the ground truth and predictions\n",
        "    def my_huber_loss(y_true, y_pred):\n",
        "        error = y_true - y_pred\n",
        "        is_small_error = tf.abs(error) <= threshold\n",
        "        small_error_loss = tf.square(error) / 2\n",
        "        big_error_loss = threshold * (tf.abs(error) - (0.5 * threshold))\n",
        "        \n",
        "        return tf.where(is_small_error, small_error_loss, big_error_loss) \n",
        "\n",
        "    # return the inner function tuned by the hyperparameter\n",
        "    return my_huber_loss"
      ],
      "metadata": {
        "id": "i29_vqHvsXmU"
      },
      "execution_count": 6,
      "outputs": []
    },
    {
      "cell_type": "markdown",
      "source": [
        "We can now specify the `loss` as the wrapper function above. Notice that we can now set the `threshold` value."
      ],
      "metadata": {
        "id": "yFpUqqhdsk82"
      }
    },
    {
      "cell_type": "code",
      "source": [
        "model = tf.keras.Sequential([keras.layers.Dense(units=1, input_shape=[1])])\n",
        "model.compile(optimizer='sgd', loss=my_huber_loss_with_threshold(threshold=1.2))\n",
        "model.fit(xs, ys, epochs=500,verbose=0)\n",
        "print(model.predict([10.0]))"
      ],
      "metadata": {
        "colab": {
          "base_uri": "https://localhost:8080/"
        },
        "id": "VOLlyOd9selW",
        "outputId": "6af73011-2065-4f3f-ceee-c9d8e117ce70"
      },
      "execution_count": 7,
      "outputs": [
        {
          "output_type": "stream",
          "name": "stdout",
          "text": [
            "1/1 [==============================] - 0s 78ms/step\n",
            "[[18.522512]]\n"
          ]
        }
      ]
    },
    {
      "cell_type": "markdown",
      "source": [
        "### Custom Loss as a Class\n",
        "\n",
        "We can also implement our custom loss as a class. It inherits from the Keras Loss class and the syntax and required methods are shown below."
      ],
      "metadata": {
        "id": "ZGRhhvROs6Jv"
      }
    },
    {
      "cell_type": "code",
      "source": [
        "class MyHuberLoss(Loss):\n",
        "  \n",
        "    # initialize instance attributes\n",
        "    def __init__(self, threshold=1):\n",
        "        super().__init__()\n",
        "        self.threshold = threshold\n",
        "\n",
        "    # compute loss\n",
        "    def call(self, y_true, y_pred):\n",
        "        error = y_true - y_pred\n",
        "        is_small_error = tf.abs(error) <= self.threshold\n",
        "        small_error_loss = tf.square(error) / 2\n",
        "        big_error_loss = self.threshold * (tf.abs(error) - (0.5 * self.threshold))\n",
        "        return tf.where(is_small_error, small_error_loss, big_error_loss)"
      ],
      "metadata": {
        "id": "4onXFmuts9Fz"
      },
      "execution_count": 8,
      "outputs": []
    },
    {
      "cell_type": "markdown",
      "source": [
        "We can specify the loss by instantiating an object from your custom loss class."
      ],
      "metadata": {
        "id": "LPsMokqftJaV"
      }
    },
    {
      "cell_type": "code",
      "source": [
        "model = tf.keras.Sequential([keras.layers.Dense(units=1, input_shape=[1])])\n",
        "model.compile(optimizer='sgd', loss=MyHuberLoss(threshold=1.02))\n",
        "model.fit(xs, ys, epochs=500,verbose=0)\n",
        "print(model.predict([10.0]))"
      ],
      "metadata": {
        "colab": {
          "base_uri": "https://localhost:8080/"
        },
        "id": "k_FtOfV0tGL9",
        "outputId": "3626e5ab-28ac-4fb7-c1f8-6fd1d031ff31"
      },
      "execution_count": 9,
      "outputs": [
        {
          "output_type": "stream",
          "name": "stdout",
          "text": [
            "1/1 [==============================] - 0s 70ms/step\n",
            "[[18.509178]]\n"
          ]
        }
      ]
    }
  ],
  "metadata": {
    "colab": {
      "provenance": [],
      "include_colab_link": true
    },
    "kernelspec": {
      "display_name": "Python 3",
      "language": "python",
      "name": "python3"
    },
    "language_info": {
      "codemirror_mode": {
        "name": "ipython",
        "version": 3
      },
      "file_extension": ".py",
      "mimetype": "text/x-python",
      "name": "python",
      "nbconvert_exporter": "python",
      "pygments_lexer": "ipython3",
      "version": "3.7.6"
    }
  },
  "nbformat": 4,
  "nbformat_minor": 0
}